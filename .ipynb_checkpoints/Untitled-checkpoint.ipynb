{
 "cells": [
  {
   "cell_type": "markdown",
   "id": "8a6074af",
   "metadata": {},
   "source": [
    "### 1 ) Importing Libraries "
   ]
  },
  {
   "cell_type": "code",
   "execution_count": 1,
   "id": "75fd71a2",
   "metadata": {},
   "outputs": [
    {
     "name": "stderr",
     "output_type": "stream",
     "text": [
      "C:\\Users\\yasha\\anaconda3\\lib\\site-packages\\numpy\\_distributor_init.py:30: UserWarning: loaded more than 1 DLL from .libs:\n",
      "C:\\Users\\yasha\\anaconda3\\lib\\site-packages\\numpy\\.libs\\libopenblas.EL2C6PLE4ZYW3ECEVIV3OXXGRN2NRFM2.gfortran-win_amd64.dll\n",
      "C:\\Users\\yasha\\anaconda3\\lib\\site-packages\\numpy\\.libs\\libopenblas.WCDJNK7YVMPZQ2ME2ZZHJJRJ3JIKNDB7.gfortran-win_amd64.dll\n",
      "  warnings.warn(\"loaded more than 1 DLL from .libs:\"\n"
     ]
    }
   ],
   "source": [
    "import pandas as pd "
   ]
  },
  {
   "cell_type": "markdown",
   "id": "4711af9a",
   "metadata": {},
   "source": [
    "### 2 ) Preparing dataset"
   ]
  },
  {
   "cell_type": "code",
   "execution_count": 2,
   "id": "0d04b17a",
   "metadata": {},
   "outputs": [],
   "source": [
    "movie = pd.read_csv('movie.csv')\n",
    "rating = pd.read_csv('rating.csv')\n",
    "#link = pd.read_csv('link.csv')"
   ]
  },
  {
   "cell_type": "code",
   "execution_count": null,
   "id": "b903632c",
   "metadata": {},
   "outputs": [],
   "source": [
    "movie"
   ]
  },
  {
   "cell_type": "code",
   "execution_count": null,
   "id": "4dea3d91",
   "metadata": {},
   "outputs": [],
   "source": [
    "rating"
   ]
  },
  {
   "cell_type": "code",
   "execution_count": null,
   "id": "29423a43",
   "metadata": {},
   "outputs": [],
   "source": [
    "link"
   ]
  },
  {
   "cell_type": "markdown",
   "id": "3588f9f5",
   "metadata": {},
   "source": [
    "#### Merging movie and rating datasets on movieId"
   ]
  },
  {
   "cell_type": "code",
   "execution_count": 3,
   "id": "ca2aaa80",
   "metadata": {},
   "outputs": [],
   "source": [
    "df = movie.merge(rating, how = \"left\", on = \"movieId\")"
   ]
  },
  {
   "cell_type": "code",
   "execution_count": null,
   "id": "94f9c84e",
   "metadata": {
    "scrolled": true
   },
   "outputs": [],
   "source": [
    "df"
   ]
  },
  {
   "cell_type": "code",
   "execution_count": null,
   "id": "e13250f4",
   "metadata": {},
   "outputs": [],
   "source": [
    "df.shape"
   ]
  },
  {
   "cell_type": "code",
   "execution_count": 4,
   "id": "aa01e8aa",
   "metadata": {},
   "outputs": [
    {
     "data": {
      "text/html": [
       "<div>\n",
       "<style scoped>\n",
       "    .dataframe tbody tr th:only-of-type {\n",
       "        vertical-align: middle;\n",
       "    }\n",
       "\n",
       "    .dataframe tbody tr th {\n",
       "        vertical-align: top;\n",
       "    }\n",
       "\n",
       "    .dataframe thead th {\n",
       "        text-align: right;\n",
       "    }\n",
       "</style>\n",
       "<table border=\"1\" class=\"dataframe\">\n",
       "  <thead>\n",
       "    <tr style=\"text-align: right;\">\n",
       "      <th></th>\n",
       "      <th>title</th>\n",
       "    </tr>\n",
       "  </thead>\n",
       "  <tbody>\n",
       "    <tr>\n",
       "      <th>Pulp Fiction (1994)</th>\n",
       "      <td>67310</td>\n",
       "    </tr>\n",
       "    <tr>\n",
       "      <th>Forrest Gump (1994)</th>\n",
       "      <td>66172</td>\n",
       "    </tr>\n",
       "    <tr>\n",
       "      <th>Shawshank Redemption, The (1994)</th>\n",
       "      <td>63366</td>\n",
       "    </tr>\n",
       "    <tr>\n",
       "      <th>Silence of the Lambs, The (1991)</th>\n",
       "      <td>63299</td>\n",
       "    </tr>\n",
       "    <tr>\n",
       "      <th>Jurassic Park (1993)</th>\n",
       "      <td>59715</td>\n",
       "    </tr>\n",
       "    <tr>\n",
       "      <th>...</th>\n",
       "      <td>...</td>\n",
       "    </tr>\n",
       "    <tr>\n",
       "      <th>Doubting Thomas (1935)</th>\n",
       "      <td>1</td>\n",
       "    </tr>\n",
       "    <tr>\n",
       "      <th>Three Faces East (1930)</th>\n",
       "      <td>1</td>\n",
       "    </tr>\n",
       "    <tr>\n",
       "      <th>To Grandmother's House We Go (1992)</th>\n",
       "      <td>1</td>\n",
       "    </tr>\n",
       "    <tr>\n",
       "      <th>Protector (Protektor) (2009)</th>\n",
       "      <td>1</td>\n",
       "    </tr>\n",
       "    <tr>\n",
       "      <th>The Sweet Ride (1968)</th>\n",
       "      <td>1</td>\n",
       "    </tr>\n",
       "  </tbody>\n",
       "</table>\n",
       "<p>27262 rows × 1 columns</p>\n",
       "</div>"
      ],
      "text/plain": [
       "                                     title\n",
       "Pulp Fiction (1994)                  67310\n",
       "Forrest Gump (1994)                  66172\n",
       "Shawshank Redemption, The (1994)     63366\n",
       "Silence of the Lambs, The (1991)     63299\n",
       "Jurassic Park (1993)                 59715\n",
       "...                                    ...\n",
       "Doubting Thomas (1935)                   1\n",
       "Three Faces East (1930)                  1\n",
       "To Grandmother's House We Go (1992)      1\n",
       "Protector (Protektor) (2009)             1\n",
       "The Sweet Ride (1968)                    1\n",
       "\n",
       "[27262 rows x 1 columns]"
      ]
     },
     "execution_count": 4,
     "metadata": {},
     "output_type": "execute_result"
    }
   ],
   "source": [
    "#counting how many time the movie is rated\n",
    "count = pd.DataFrame(df[\"title\"].value_counts())\n",
    "count"
   ]
  },
  {
   "cell_type": "markdown",
   "id": "94314808",
   "metadata": {},
   "source": [
    "Here we can see some movies are rated only by a few users and hence we can conclude that these movies are not so popular (or) are rare and therefore we are eliminating those movies which are rated by less 10000 users."
   ]
  },
  {
   "cell_type": "code",
   "execution_count": 5,
   "id": "673658f8",
   "metadata": {},
   "outputs": [],
   "source": [
    "#movies rated by 10000 or more users\n",
    "final_movies = df[df[\"title\"].isin(count[count[\"title\"] >= 15000].index)]"
   ]
  },
  {
   "cell_type": "code",
   "execution_count": null,
   "id": "4711f398",
   "metadata": {},
   "outputs": [],
   "source": [
    "final_movies"
   ]
  },
  {
   "cell_type": "code",
   "execution_count": 6,
   "id": "dc803a56",
   "metadata": {},
   "outputs": [],
   "source": [
    "#creating a dataframe of movies title and users with their ratings\n",
    "df_movie_user = final_movies.pivot_table(index=\"userId\", columns=\"title\", values=\"rating\")"
   ]
  },
  {
   "cell_type": "code",
   "execution_count": null,
   "id": "f93b790d",
   "metadata": {},
   "outputs": [],
   "source": [
    "df_movie_user"
   ]
  },
  {
   "cell_type": "markdown",
   "id": "456b1824",
   "metadata": {},
   "source": [
    "#selecting a random user\n",
    "user = int(pd.Series(df_movie_user.index).sample(1, random_state = 42).values)\n",
    "user"
   ]
  },
  {
   "cell_type": "markdown",
   "id": "e7b97af3",
   "metadata": {},
   "source": [
    "### 3 ) Determination of Films watched by the user "
   ]
  },
  {
   "cell_type": "markdown",
   "id": "740dfb4f",
   "metadata": {},
   "source": [
    "user_df = df_movie_user[df_movie_user.index == 1145]"
   ]
  },
  {
   "cell_type": "markdown",
   "id": "490ac175",
   "metadata": {},
   "source": [
    "user_df"
   ]
  },
  {
   "cell_type": "markdown",
   "id": "53fd19b4",
   "metadata": {},
   "source": [
    "#movies watched by the user\n",
    "movies_watched = user_df.columns[user_df.notna().any()].tolist()\n",
    "movies_watched"
   ]
  },
  {
   "cell_type": "markdown",
   "id": "b90c1911",
   "metadata": {},
   "source": [
    "user_df[movies_watched]"
   ]
  },
  {
   "cell_type": "code",
   "execution_count": null,
   "id": "79bff2c8",
   "metadata": {},
   "outputs": [],
   "source": [
    "final_df = movies_watched_df[movies_watched_df.index.isin(users_same_movies)]"
   ]
  },
  {
   "cell_type": "markdown",
   "id": "dcc0e1e1",
   "metadata": {},
   "source": [
    "#checking user's score on a movie\n",
    "df_movie_user.loc[df_movie_user.index == user, df_movie_user.columns == 'Wag the Dog (1997)']"
   ]
  },
  {
   "cell_type": "markdown",
   "id": "7cfc8688",
   "metadata": {},
   "source": [
    "#total number of movies watched by the user\n",
    "len(movies_watched)"
   ]
  },
  {
   "cell_type": "markdown",
   "id": "39552d86",
   "metadata": {},
   "source": [
    "movie[\"title\"].str.find('Primer (2004)')"
   ]
  },
  {
   "cell_type": "code",
   "execution_count": 7,
   "id": "575fd94b",
   "metadata": {},
   "outputs": [],
   "source": [
    "new_movies = pd.Series(['Fight Club (1999)',\n",
    "             #'Primer (2004)',\n",
    "             #'Ratatouille (2007)',\n",
    "             'Lord of the Rings: The Fellowship of the Ring, The (2001)',\n",
    "             'Apollo 13 (1995)'])"
   ]
  },
  {
   "cell_type": "code",
   "execution_count": 8,
   "id": "4d18e4f3",
   "metadata": {},
   "outputs": [
    {
     "data": {
      "text/plain": [
       "0                                    Fight Club (1999)\n",
       "1    Lord of the Rings: The Fellowship of the Ring,...\n",
       "2                                     Apollo 13 (1995)\n",
       "dtype: object"
      ]
     },
     "execution_count": 8,
     "metadata": {},
     "output_type": "execute_result"
    }
   ],
   "source": [
    "new_movies"
   ]
  },
  {
   "cell_type": "markdown",
   "id": "bbc47679",
   "metadata": {},
   "source": [
    "### 4 ) Accessing the Data and IDs of Other Users Watching the Same Movies"
   ]
  },
  {
   "cell_type": "code",
   "execution_count": 9,
   "id": "e603699b",
   "metadata": {},
   "outputs": [
    {
     "data": {
      "text/html": [
       "<div>\n",
       "<style scoped>\n",
       "    .dataframe tbody tr th:only-of-type {\n",
       "        vertical-align: middle;\n",
       "    }\n",
       "\n",
       "    .dataframe tbody tr th {\n",
       "        vertical-align: top;\n",
       "    }\n",
       "\n",
       "    .dataframe thead th {\n",
       "        text-align: right;\n",
       "    }\n",
       "</style>\n",
       "<table border=\"1\" class=\"dataframe\">\n",
       "  <thead>\n",
       "    <tr style=\"text-align: right;\">\n",
       "      <th>title</th>\n",
       "      <th>Fight Club (1999)</th>\n",
       "      <th>Lord of the Rings: The Fellowship of the Ring, The (2001)</th>\n",
       "      <th>Apollo 13 (1995)</th>\n",
       "    </tr>\n",
       "    <tr>\n",
       "      <th>userId</th>\n",
       "      <th></th>\n",
       "      <th></th>\n",
       "      <th></th>\n",
       "    </tr>\n",
       "  </thead>\n",
       "  <tbody>\n",
       "    <tr>\n",
       "      <th>1.0</th>\n",
       "      <td>4.0</td>\n",
       "      <td>5.0</td>\n",
       "      <td>NaN</td>\n",
       "    </tr>\n",
       "    <tr>\n",
       "      <th>2.0</th>\n",
       "      <td>NaN</td>\n",
       "      <td>NaN</td>\n",
       "      <td>NaN</td>\n",
       "    </tr>\n",
       "    <tr>\n",
       "      <th>3.0</th>\n",
       "      <td>NaN</td>\n",
       "      <td>NaN</td>\n",
       "      <td>NaN</td>\n",
       "    </tr>\n",
       "    <tr>\n",
       "      <th>4.0</th>\n",
       "      <td>NaN</td>\n",
       "      <td>NaN</td>\n",
       "      <td>NaN</td>\n",
       "    </tr>\n",
       "    <tr>\n",
       "      <th>5.0</th>\n",
       "      <td>NaN</td>\n",
       "      <td>NaN</td>\n",
       "      <td>5.0</td>\n",
       "    </tr>\n",
       "    <tr>\n",
       "      <th>...</th>\n",
       "      <td>...</td>\n",
       "      <td>...</td>\n",
       "      <td>...</td>\n",
       "    </tr>\n",
       "    <tr>\n",
       "      <th>138489.0</th>\n",
       "      <td>4.5</td>\n",
       "      <td>NaN</td>\n",
       "      <td>NaN</td>\n",
       "    </tr>\n",
       "    <tr>\n",
       "      <th>138490.0</th>\n",
       "      <td>NaN</td>\n",
       "      <td>NaN</td>\n",
       "      <td>4.0</td>\n",
       "    </tr>\n",
       "    <tr>\n",
       "      <th>138491.0</th>\n",
       "      <td>NaN</td>\n",
       "      <td>NaN</td>\n",
       "      <td>NaN</td>\n",
       "    </tr>\n",
       "    <tr>\n",
       "      <th>138492.0</th>\n",
       "      <td>NaN</td>\n",
       "      <td>NaN</td>\n",
       "      <td>NaN</td>\n",
       "    </tr>\n",
       "    <tr>\n",
       "      <th>138493.0</th>\n",
       "      <td>5.0</td>\n",
       "      <td>4.0</td>\n",
       "      <td>4.5</td>\n",
       "    </tr>\n",
       "  </tbody>\n",
       "</table>\n",
       "<p>136386 rows × 3 columns</p>\n",
       "</div>"
      ],
      "text/plain": [
       "title     Fight Club (1999)  \\\n",
       "userId                        \n",
       "1.0                     4.0   \n",
       "2.0                     NaN   \n",
       "3.0                     NaN   \n",
       "4.0                     NaN   \n",
       "5.0                     NaN   \n",
       "...                     ...   \n",
       "138489.0                4.5   \n",
       "138490.0                NaN   \n",
       "138491.0                NaN   \n",
       "138492.0                NaN   \n",
       "138493.0                5.0   \n",
       "\n",
       "title     Lord of the Rings: The Fellowship of the Ring, The (2001)  \\\n",
       "userId                                                                \n",
       "1.0                                                     5.0           \n",
       "2.0                                                     NaN           \n",
       "3.0                                                     NaN           \n",
       "4.0                                                     NaN           \n",
       "5.0                                                     NaN           \n",
       "...                                                     ...           \n",
       "138489.0                                                NaN           \n",
       "138490.0                                                NaN           \n",
       "138491.0                                                NaN           \n",
       "138492.0                                                NaN           \n",
       "138493.0                                                4.0           \n",
       "\n",
       "title     Apollo 13 (1995)  \n",
       "userId                      \n",
       "1.0                    NaN  \n",
       "2.0                    NaN  \n",
       "3.0                    NaN  \n",
       "4.0                    NaN  \n",
       "5.0                    5.0  \n",
       "...                    ...  \n",
       "138489.0               NaN  \n",
       "138490.0               4.0  \n",
       "138491.0               NaN  \n",
       "138492.0               NaN  \n",
       "138493.0               4.5  \n",
       "\n",
       "[136386 rows x 3 columns]"
      ]
     },
     "execution_count": 9,
     "metadata": {},
     "output_type": "execute_result"
    }
   ],
   "source": [
    "#creating a dataframe of movies watched by the user\n",
    "movies_watched_df = df_movie_user[new_movies]\n",
    "movies_watched_df"
   ]
  },
  {
   "cell_type": "markdown",
   "id": "b569dfb5",
   "metadata": {},
   "source": [
    "There are only those movies that were rated by the user"
   ]
  },
  {
   "cell_type": "code",
   "execution_count": 10,
   "id": "94f5fee5",
   "metadata": {},
   "outputs": [],
   "source": [
    "# Number of other users who gave vote for the movies selected by the user\n",
    "user_movie_count = movies_watched_df.T.notnull().sum()"
   ]
  },
  {
   "cell_type": "code",
   "execution_count": 11,
   "id": "5215123d",
   "metadata": {},
   "outputs": [],
   "source": [
    "user_movie_count = user_movie_count.reset_index()"
   ]
  },
  {
   "cell_type": "code",
   "execution_count": 12,
   "id": "b833fc7c",
   "metadata": {},
   "outputs": [],
   "source": [
    "user_movie_count.columns = ['userId', 'movie_count']"
   ]
  },
  {
   "cell_type": "code",
   "execution_count": 13,
   "id": "fe96f79a",
   "metadata": {},
   "outputs": [
    {
     "data": {
      "text/html": [
       "<div>\n",
       "<style scoped>\n",
       "    .dataframe tbody tr th:only-of-type {\n",
       "        vertical-align: middle;\n",
       "    }\n",
       "\n",
       "    .dataframe tbody tr th {\n",
       "        vertical-align: top;\n",
       "    }\n",
       "\n",
       "    .dataframe thead th {\n",
       "        text-align: right;\n",
       "    }\n",
       "</style>\n",
       "<table border=\"1\" class=\"dataframe\">\n",
       "  <thead>\n",
       "    <tr style=\"text-align: right;\">\n",
       "      <th></th>\n",
       "      <th>userId</th>\n",
       "      <th>movie_count</th>\n",
       "    </tr>\n",
       "  </thead>\n",
       "  <tbody>\n",
       "    <tr>\n",
       "      <th>0</th>\n",
       "      <td>1.0</td>\n",
       "      <td>2</td>\n",
       "    </tr>\n",
       "    <tr>\n",
       "      <th>1</th>\n",
       "      <td>2.0</td>\n",
       "      <td>0</td>\n",
       "    </tr>\n",
       "    <tr>\n",
       "      <th>2</th>\n",
       "      <td>3.0</td>\n",
       "      <td>0</td>\n",
       "    </tr>\n",
       "    <tr>\n",
       "      <th>3</th>\n",
       "      <td>4.0</td>\n",
       "      <td>0</td>\n",
       "    </tr>\n",
       "    <tr>\n",
       "      <th>4</th>\n",
       "      <td>5.0</td>\n",
       "      <td>1</td>\n",
       "    </tr>\n",
       "    <tr>\n",
       "      <th>...</th>\n",
       "      <td>...</td>\n",
       "      <td>...</td>\n",
       "    </tr>\n",
       "    <tr>\n",
       "      <th>136381</th>\n",
       "      <td>138489.0</td>\n",
       "      <td>1</td>\n",
       "    </tr>\n",
       "    <tr>\n",
       "      <th>136382</th>\n",
       "      <td>138490.0</td>\n",
       "      <td>1</td>\n",
       "    </tr>\n",
       "    <tr>\n",
       "      <th>136383</th>\n",
       "      <td>138491.0</td>\n",
       "      <td>0</td>\n",
       "    </tr>\n",
       "    <tr>\n",
       "      <th>136384</th>\n",
       "      <td>138492.0</td>\n",
       "      <td>0</td>\n",
       "    </tr>\n",
       "    <tr>\n",
       "      <th>136385</th>\n",
       "      <td>138493.0</td>\n",
       "      <td>3</td>\n",
       "    </tr>\n",
       "  </tbody>\n",
       "</table>\n",
       "<p>136386 rows × 2 columns</p>\n",
       "</div>"
      ],
      "text/plain": [
       "          userId  movie_count\n",
       "0            1.0            2\n",
       "1            2.0            0\n",
       "2            3.0            0\n",
       "3            4.0            0\n",
       "4            5.0            1\n",
       "...          ...          ...\n",
       "136381  138489.0            1\n",
       "136382  138490.0            1\n",
       "136383  138491.0            0\n",
       "136384  138492.0            0\n",
       "136385  138493.0            3\n",
       "\n",
       "[136386 rows x 2 columns]"
      ]
     },
     "execution_count": 13,
     "metadata": {},
     "output_type": "execute_result"
    }
   ],
   "source": [
    "user_movie_count"
   ]
  },
  {
   "cell_type": "code",
   "execution_count": 16,
   "id": "2ed65bcb",
   "metadata": {},
   "outputs": [
    {
     "data": {
      "text/html": [
       "<div>\n",
       "<style scoped>\n",
       "    .dataframe tbody tr th:only-of-type {\n",
       "        vertical-align: middle;\n",
       "    }\n",
       "\n",
       "    .dataframe tbody tr th {\n",
       "        vertical-align: top;\n",
       "    }\n",
       "\n",
       "    .dataframe thead th {\n",
       "        text-align: right;\n",
       "    }\n",
       "</style>\n",
       "<table border=\"1\" class=\"dataframe\">\n",
       "  <thead>\n",
       "    <tr style=\"text-align: right;\">\n",
       "      <th></th>\n",
       "      <th>userId</th>\n",
       "      <th>movie_count</th>\n",
       "    </tr>\n",
       "  </thead>\n",
       "  <tbody>\n",
       "    <tr>\n",
       "      <th>10</th>\n",
       "      <td>11.0</td>\n",
       "      <td>3</td>\n",
       "    </tr>\n",
       "    <tr>\n",
       "      <th>89987</th>\n",
       "      <td>91420.0</td>\n",
       "      <td>3</td>\n",
       "    </tr>\n",
       "    <tr>\n",
       "      <th>89885</th>\n",
       "      <td>91317.0</td>\n",
       "      <td>3</td>\n",
       "    </tr>\n",
       "    <tr>\n",
       "      <th>89891</th>\n",
       "      <td>91323.0</td>\n",
       "      <td>3</td>\n",
       "    </tr>\n",
       "    <tr>\n",
       "      <th>89917</th>\n",
       "      <td>91349.0</td>\n",
       "      <td>3</td>\n",
       "    </tr>\n",
       "    <tr>\n",
       "      <th>...</th>\n",
       "      <td>...</td>\n",
       "      <td>...</td>\n",
       "    </tr>\n",
       "    <tr>\n",
       "      <th>44361</th>\n",
       "      <td>45071.0</td>\n",
       "      <td>3</td>\n",
       "    </tr>\n",
       "    <tr>\n",
       "      <th>44365</th>\n",
       "      <td>45075.0</td>\n",
       "      <td>3</td>\n",
       "    </tr>\n",
       "    <tr>\n",
       "      <th>44376</th>\n",
       "      <td>45088.0</td>\n",
       "      <td>3</td>\n",
       "    </tr>\n",
       "    <tr>\n",
       "      <th>44384</th>\n",
       "      <td>45096.0</td>\n",
       "      <td>3</td>\n",
       "    </tr>\n",
       "    <tr>\n",
       "      <th>136385</th>\n",
       "      <td>138493.0</td>\n",
       "      <td>3</td>\n",
       "    </tr>\n",
       "  </tbody>\n",
       "</table>\n",
       "<p>11806 rows × 2 columns</p>\n",
       "</div>"
      ],
      "text/plain": [
       "          userId  movie_count\n",
       "10          11.0            3\n",
       "89987    91420.0            3\n",
       "89885    91317.0            3\n",
       "89891    91323.0            3\n",
       "89917    91349.0            3\n",
       "...          ...          ...\n",
       "44361    45071.0            3\n",
       "44365    45075.0            3\n",
       "44376    45088.0            3\n",
       "44384    45096.0            3\n",
       "136385  138493.0            3\n",
       "\n",
       "[11806 rows x 2 columns]"
      ]
     },
     "execution_count": 16,
     "metadata": {},
     "output_type": "execute_result"
    }
   ],
   "source": [
    "#selecting users that watched atleast 80% of the movies that user watched\n",
    "percentage = len(new_movies)* 80/100\n",
    "user_movie_count[user_movie_count[\"movie_count\"] > percentage].sort_values(\"movie_count\", ascending=False)"
   ]
  },
  {
   "cell_type": "code",
   "execution_count": 17,
   "id": "11b6b88e",
   "metadata": {},
   "outputs": [
    {
     "data": {
      "text/plain": [
       "userId         11806\n",
       "movie_count    11806\n",
       "dtype: int64"
      ]
     },
     "execution_count": 17,
     "metadata": {},
     "output_type": "execute_result"
    }
   ],
   "source": [
    "#Number of people who watches all the same movies that user watched\n",
    "user_movie_count[user_movie_count[\"movie_count\"] == 3].count()"
   ]
  },
  {
   "cell_type": "markdown",
   "id": "2af98a22",
   "metadata": {},
   "source": [
    "We can see that 57 users watched all the same movies that user watched"
   ]
  },
  {
   "cell_type": "code",
   "execution_count": 18,
   "id": "9ea963ac",
   "metadata": {},
   "outputs": [],
   "source": [
    "# Taking user IDs of those users who watched more than 60% of the same movies\n",
    "users_same_movies = user_movie_count[user_movie_count[\"movie_count\"] > percentage][\"userId\"]"
   ]
  },
  {
   "cell_type": "code",
   "execution_count": 19,
   "id": "ca9950a1",
   "metadata": {},
   "outputs": [
    {
     "data": {
      "text/plain": [
       "10            11.0\n",
       "90            91.0\n",
       "115          116.0\n",
       "123          124.0\n",
       "130          131.0\n",
       "            ...   \n",
       "136311    138419.0\n",
       "136314    138422.0\n",
       "136348    138456.0\n",
       "136366    138474.0\n",
       "136385    138493.0\n",
       "Name: userId, Length: 11806, dtype: float64"
      ]
     },
     "execution_count": 19,
     "metadata": {},
     "output_type": "execute_result"
    }
   ],
   "source": [
    "users_same_movies"
   ]
  },
  {
   "cell_type": "code",
   "execution_count": 20,
   "id": "772adb8e",
   "metadata": {},
   "outputs": [],
   "source": [
    "new_movies_df = pd.DataFrame({'new_movies':new_movies.index})"
   ]
  },
  {
   "cell_type": "code",
   "execution_count": 21,
   "id": "98769eba",
   "metadata": {},
   "outputs": [
    {
     "data": {
      "text/html": [
       "<div>\n",
       "<style scoped>\n",
       "    .dataframe tbody tr th:only-of-type {\n",
       "        vertical-align: middle;\n",
       "    }\n",
       "\n",
       "    .dataframe tbody tr th {\n",
       "        vertical-align: top;\n",
       "    }\n",
       "\n",
       "    .dataframe thead th {\n",
       "        text-align: right;\n",
       "    }\n",
       "</style>\n",
       "<table border=\"1\" class=\"dataframe\">\n",
       "  <thead>\n",
       "    <tr style=\"text-align: right;\">\n",
       "      <th></th>\n",
       "      <th>new_movies</th>\n",
       "    </tr>\n",
       "  </thead>\n",
       "  <tbody>\n",
       "    <tr>\n",
       "      <th>0</th>\n",
       "      <td>Fight Club (1999)</td>\n",
       "    </tr>\n",
       "    <tr>\n",
       "      <th>1</th>\n",
       "      <td>Lord of the Rings: The Fellowship of the Ring,...</td>\n",
       "    </tr>\n",
       "    <tr>\n",
       "      <th>2</th>\n",
       "      <td>Apollo 13 (1995)</td>\n",
       "    </tr>\n",
       "  </tbody>\n",
       "</table>\n",
       "</div>"
      ],
      "text/plain": [
       "                                          new_movies\n",
       "0                                  Fight Club (1999)\n",
       "1  Lord of the Rings: The Fellowship of the Ring,...\n",
       "2                                   Apollo 13 (1995)"
      ]
     },
     "execution_count": 21,
     "metadata": {},
     "output_type": "execute_result"
    }
   ],
   "source": [
    "new_movies_df"
   ]
  },
  {
   "cell_type": "markdown",
   "id": "b238d20e",
   "metadata": {},
   "source": [
    "### Identifying the Users with Most Similar Behavior to The User to Be Recommended"
   ]
  },
  {
   "cell_type": "markdown",
   "id": "fb0fa483",
   "metadata": {},
   "source": [
    "#collecting data of our user and other users\n",
    "final_df = pd.concat([movies_watched_df[movies_watched_df.index.isin(users_same_movies)],\n",
    "                      new_movies_df[new_movies]])"
   ]
  },
  {
   "cell_type": "code",
   "execution_count": 31,
   "id": "31c5971e",
   "metadata": {},
   "outputs": [
    {
     "data": {
      "text/html": [
       "<div>\n",
       "<style scoped>\n",
       "    .dataframe tbody tr th:only-of-type {\n",
       "        vertical-align: middle;\n",
       "    }\n",
       "\n",
       "    .dataframe tbody tr th {\n",
       "        vertical-align: top;\n",
       "    }\n",
       "\n",
       "    .dataframe thead th {\n",
       "        text-align: right;\n",
       "    }\n",
       "</style>\n",
       "<table border=\"1\" class=\"dataframe\">\n",
       "  <thead>\n",
       "    <tr style=\"text-align: right;\">\n",
       "      <th>userId</th>\n",
       "      <th>11.0</th>\n",
       "      <th>91.0</th>\n",
       "      <th>116.0</th>\n",
       "      <th>124.0</th>\n",
       "      <th>131.0</th>\n",
       "      <th>152.0</th>\n",
       "      <th>156.0</th>\n",
       "      <th>208.0</th>\n",
       "      <th>211.0</th>\n",
       "      <th>220.0</th>\n",
       "      <th>...</th>\n",
       "      <th>138387.0</th>\n",
       "      <th>138392.0</th>\n",
       "      <th>138397.0</th>\n",
       "      <th>138411.0</th>\n",
       "      <th>138416.0</th>\n",
       "      <th>138419.0</th>\n",
       "      <th>138422.0</th>\n",
       "      <th>138456.0</th>\n",
       "      <th>138474.0</th>\n",
       "      <th>138493.0</th>\n",
       "    </tr>\n",
       "    <tr>\n",
       "      <th>userId</th>\n",
       "      <th></th>\n",
       "      <th></th>\n",
       "      <th></th>\n",
       "      <th></th>\n",
       "      <th></th>\n",
       "      <th></th>\n",
       "      <th></th>\n",
       "      <th></th>\n",
       "      <th></th>\n",
       "      <th></th>\n",
       "      <th></th>\n",
       "      <th></th>\n",
       "      <th></th>\n",
       "      <th></th>\n",
       "      <th></th>\n",
       "      <th></th>\n",
       "      <th></th>\n",
       "      <th></th>\n",
       "      <th></th>\n",
       "      <th></th>\n",
       "      <th></th>\n",
       "    </tr>\n",
       "  </thead>\n",
       "  <tbody>\n",
       "    <tr>\n",
       "      <th>11.0</th>\n",
       "      <td>1.000000</td>\n",
       "      <td>-0.500000</td>\n",
       "      <td>-0.970725</td>\n",
       "      <td>-0.693375</td>\n",
       "      <td>-0.500000</td>\n",
       "      <td>-0.944911</td>\n",
       "      <td>NaN</td>\n",
       "      <td>0.500000</td>\n",
       "      <td>0.500000</td>\n",
       "      <td>-0.500000</td>\n",
       "      <td>...</td>\n",
       "      <td>-0.755929</td>\n",
       "      <td>0.500000</td>\n",
       "      <td>0.866025</td>\n",
       "      <td>0.000000</td>\n",
       "      <td>-0.500000</td>\n",
       "      <td>0.000000</td>\n",
       "      <td>NaN</td>\n",
       "      <td>0.866025</td>\n",
       "      <td>NaN</td>\n",
       "      <td>-0.866025</td>\n",
       "    </tr>\n",
       "    <tr>\n",
       "      <th>91.0</th>\n",
       "      <td>-0.500000</td>\n",
       "      <td>1.000000</td>\n",
       "      <td>0.693375</td>\n",
       "      <td>-0.277350</td>\n",
       "      <td>1.000000</td>\n",
       "      <td>0.755929</td>\n",
       "      <td>NaN</td>\n",
       "      <td>-1.000000</td>\n",
       "      <td>0.500000</td>\n",
       "      <td>-0.500000</td>\n",
       "      <td>...</td>\n",
       "      <td>0.944911</td>\n",
       "      <td>0.500000</td>\n",
       "      <td>-0.866025</td>\n",
       "      <td>0.866025</td>\n",
       "      <td>1.000000</td>\n",
       "      <td>0.866025</td>\n",
       "      <td>NaN</td>\n",
       "      <td>-0.866025</td>\n",
       "      <td>NaN</td>\n",
       "      <td>0.000000</td>\n",
       "    </tr>\n",
       "    <tr>\n",
       "      <th>116.0</th>\n",
       "      <td>-0.970725</td>\n",
       "      <td>0.693375</td>\n",
       "      <td>1.000000</td>\n",
       "      <td>0.500000</td>\n",
       "      <td>0.693375</td>\n",
       "      <td>0.995871</td>\n",
       "      <td>NaN</td>\n",
       "      <td>-0.693375</td>\n",
       "      <td>-0.277350</td>\n",
       "      <td>0.277350</td>\n",
       "      <td>...</td>\n",
       "      <td>0.891042</td>\n",
       "      <td>-0.277350</td>\n",
       "      <td>-0.960769</td>\n",
       "      <td>0.240192</td>\n",
       "      <td>0.693375</td>\n",
       "      <td>0.240192</td>\n",
       "      <td>NaN</td>\n",
       "      <td>-0.960769</td>\n",
       "      <td>NaN</td>\n",
       "      <td>0.720577</td>\n",
       "    </tr>\n",
       "    <tr>\n",
       "      <th>124.0</th>\n",
       "      <td>-0.693375</td>\n",
       "      <td>-0.277350</td>\n",
       "      <td>0.500000</td>\n",
       "      <td>1.000000</td>\n",
       "      <td>-0.277350</td>\n",
       "      <td>0.419314</td>\n",
       "      <td>NaN</td>\n",
       "      <td>0.277350</td>\n",
       "      <td>-0.970725</td>\n",
       "      <td>0.970725</td>\n",
       "      <td>...</td>\n",
       "      <td>0.052414</td>\n",
       "      <td>-0.970725</td>\n",
       "      <td>-0.240192</td>\n",
       "      <td>-0.720577</td>\n",
       "      <td>-0.277350</td>\n",
       "      <td>-0.720577</td>\n",
       "      <td>NaN</td>\n",
       "      <td>-0.240192</td>\n",
       "      <td>NaN</td>\n",
       "      <td>0.960769</td>\n",
       "    </tr>\n",
       "    <tr>\n",
       "      <th>131.0</th>\n",
       "      <td>-0.500000</td>\n",
       "      <td>1.000000</td>\n",
       "      <td>0.693375</td>\n",
       "      <td>-0.277350</td>\n",
       "      <td>1.000000</td>\n",
       "      <td>0.755929</td>\n",
       "      <td>NaN</td>\n",
       "      <td>-1.000000</td>\n",
       "      <td>0.500000</td>\n",
       "      <td>-0.500000</td>\n",
       "      <td>...</td>\n",
       "      <td>0.944911</td>\n",
       "      <td>0.500000</td>\n",
       "      <td>-0.866025</td>\n",
       "      <td>0.866025</td>\n",
       "      <td>1.000000</td>\n",
       "      <td>0.866025</td>\n",
       "      <td>NaN</td>\n",
       "      <td>-0.866025</td>\n",
       "      <td>NaN</td>\n",
       "      <td>0.000000</td>\n",
       "    </tr>\n",
       "    <tr>\n",
       "      <th>...</th>\n",
       "      <td>...</td>\n",
       "      <td>...</td>\n",
       "      <td>...</td>\n",
       "      <td>...</td>\n",
       "      <td>...</td>\n",
       "      <td>...</td>\n",
       "      <td>...</td>\n",
       "      <td>...</td>\n",
       "      <td>...</td>\n",
       "      <td>...</td>\n",
       "      <td>...</td>\n",
       "      <td>...</td>\n",
       "      <td>...</td>\n",
       "      <td>...</td>\n",
       "      <td>...</td>\n",
       "      <td>...</td>\n",
       "      <td>...</td>\n",
       "      <td>...</td>\n",
       "      <td>...</td>\n",
       "      <td>...</td>\n",
       "      <td>...</td>\n",
       "    </tr>\n",
       "    <tr>\n",
       "      <th>138419.0</th>\n",
       "      <td>0.000000</td>\n",
       "      <td>0.866025</td>\n",
       "      <td>0.240192</td>\n",
       "      <td>-0.720577</td>\n",
       "      <td>0.866025</td>\n",
       "      <td>0.327327</td>\n",
       "      <td>NaN</td>\n",
       "      <td>-0.866025</td>\n",
       "      <td>0.866025</td>\n",
       "      <td>-0.866025</td>\n",
       "      <td>...</td>\n",
       "      <td>0.654654</td>\n",
       "      <td>0.866025</td>\n",
       "      <td>-0.500000</td>\n",
       "      <td>1.000000</td>\n",
       "      <td>0.866025</td>\n",
       "      <td>1.000000</td>\n",
       "      <td>NaN</td>\n",
       "      <td>-0.500000</td>\n",
       "      <td>NaN</td>\n",
       "      <td>-0.500000</td>\n",
       "    </tr>\n",
       "    <tr>\n",
       "      <th>138422.0</th>\n",
       "      <td>NaN</td>\n",
       "      <td>NaN</td>\n",
       "      <td>NaN</td>\n",
       "      <td>NaN</td>\n",
       "      <td>NaN</td>\n",
       "      <td>NaN</td>\n",
       "      <td>NaN</td>\n",
       "      <td>NaN</td>\n",
       "      <td>NaN</td>\n",
       "      <td>NaN</td>\n",
       "      <td>...</td>\n",
       "      <td>NaN</td>\n",
       "      <td>NaN</td>\n",
       "      <td>NaN</td>\n",
       "      <td>NaN</td>\n",
       "      <td>NaN</td>\n",
       "      <td>NaN</td>\n",
       "      <td>NaN</td>\n",
       "      <td>NaN</td>\n",
       "      <td>NaN</td>\n",
       "      <td>NaN</td>\n",
       "    </tr>\n",
       "    <tr>\n",
       "      <th>138456.0</th>\n",
       "      <td>0.866025</td>\n",
       "      <td>-0.866025</td>\n",
       "      <td>-0.960769</td>\n",
       "      <td>-0.240192</td>\n",
       "      <td>-0.866025</td>\n",
       "      <td>-0.981981</td>\n",
       "      <td>NaN</td>\n",
       "      <td>0.866025</td>\n",
       "      <td>0.000000</td>\n",
       "      <td>0.000000</td>\n",
       "      <td>...</td>\n",
       "      <td>-0.981981</td>\n",
       "      <td>0.000000</td>\n",
       "      <td>1.000000</td>\n",
       "      <td>-0.500000</td>\n",
       "      <td>-0.866025</td>\n",
       "      <td>-0.500000</td>\n",
       "      <td>NaN</td>\n",
       "      <td>1.000000</td>\n",
       "      <td>NaN</td>\n",
       "      <td>-0.500000</td>\n",
       "    </tr>\n",
       "    <tr>\n",
       "      <th>138474.0</th>\n",
       "      <td>NaN</td>\n",
       "      <td>NaN</td>\n",
       "      <td>NaN</td>\n",
       "      <td>NaN</td>\n",
       "      <td>NaN</td>\n",
       "      <td>NaN</td>\n",
       "      <td>NaN</td>\n",
       "      <td>NaN</td>\n",
       "      <td>NaN</td>\n",
       "      <td>NaN</td>\n",
       "      <td>...</td>\n",
       "      <td>NaN</td>\n",
       "      <td>NaN</td>\n",
       "      <td>NaN</td>\n",
       "      <td>NaN</td>\n",
       "      <td>NaN</td>\n",
       "      <td>NaN</td>\n",
       "      <td>NaN</td>\n",
       "      <td>NaN</td>\n",
       "      <td>NaN</td>\n",
       "      <td>NaN</td>\n",
       "    </tr>\n",
       "    <tr>\n",
       "      <th>138493.0</th>\n",
       "      <td>-0.866025</td>\n",
       "      <td>0.000000</td>\n",
       "      <td>0.720577</td>\n",
       "      <td>0.960769</td>\n",
       "      <td>0.000000</td>\n",
       "      <td>0.654654</td>\n",
       "      <td>NaN</td>\n",
       "      <td>0.000000</td>\n",
       "      <td>-0.866025</td>\n",
       "      <td>0.866025</td>\n",
       "      <td>...</td>\n",
       "      <td>0.327327</td>\n",
       "      <td>-0.866025</td>\n",
       "      <td>-0.500000</td>\n",
       "      <td>-0.500000</td>\n",
       "      <td>0.000000</td>\n",
       "      <td>-0.500000</td>\n",
       "      <td>NaN</td>\n",
       "      <td>-0.500000</td>\n",
       "      <td>NaN</td>\n",
       "      <td>1.000000</td>\n",
       "    </tr>\n",
       "  </tbody>\n",
       "</table>\n",
       "<p>11806 rows × 11806 columns</p>\n",
       "</div>"
      ],
      "text/plain": [
       "userId    11.0      91.0      116.0     124.0     131.0     152.0     \\\n",
       "userId                                                                 \n",
       "11.0      1.000000 -0.500000 -0.970725 -0.693375 -0.500000 -0.944911   \n",
       "91.0     -0.500000  1.000000  0.693375 -0.277350  1.000000  0.755929   \n",
       "116.0    -0.970725  0.693375  1.000000  0.500000  0.693375  0.995871   \n",
       "124.0    -0.693375 -0.277350  0.500000  1.000000 -0.277350  0.419314   \n",
       "131.0    -0.500000  1.000000  0.693375 -0.277350  1.000000  0.755929   \n",
       "...            ...       ...       ...       ...       ...       ...   \n",
       "138419.0  0.000000  0.866025  0.240192 -0.720577  0.866025  0.327327   \n",
       "138422.0       NaN       NaN       NaN       NaN       NaN       NaN   \n",
       "138456.0  0.866025 -0.866025 -0.960769 -0.240192 -0.866025 -0.981981   \n",
       "138474.0       NaN       NaN       NaN       NaN       NaN       NaN   \n",
       "138493.0 -0.866025  0.000000  0.720577  0.960769  0.000000  0.654654   \n",
       "\n",
       "userId    156.0     208.0     211.0     220.0     ...  138387.0  138392.0  \\\n",
       "userId                                            ...                       \n",
       "11.0           NaN  0.500000  0.500000 -0.500000  ... -0.755929  0.500000   \n",
       "91.0           NaN -1.000000  0.500000 -0.500000  ...  0.944911  0.500000   \n",
       "116.0          NaN -0.693375 -0.277350  0.277350  ...  0.891042 -0.277350   \n",
       "124.0          NaN  0.277350 -0.970725  0.970725  ...  0.052414 -0.970725   \n",
       "131.0          NaN -1.000000  0.500000 -0.500000  ...  0.944911  0.500000   \n",
       "...            ...       ...       ...       ...  ...       ...       ...   \n",
       "138419.0       NaN -0.866025  0.866025 -0.866025  ...  0.654654  0.866025   \n",
       "138422.0       NaN       NaN       NaN       NaN  ...       NaN       NaN   \n",
       "138456.0       NaN  0.866025  0.000000  0.000000  ... -0.981981  0.000000   \n",
       "138474.0       NaN       NaN       NaN       NaN  ...       NaN       NaN   \n",
       "138493.0       NaN  0.000000 -0.866025  0.866025  ...  0.327327 -0.866025   \n",
       "\n",
       "userId    138397.0  138411.0  138416.0  138419.0  138422.0  138456.0  \\\n",
       "userId                                                                 \n",
       "11.0      0.866025  0.000000 -0.500000  0.000000       NaN  0.866025   \n",
       "91.0     -0.866025  0.866025  1.000000  0.866025       NaN -0.866025   \n",
       "116.0    -0.960769  0.240192  0.693375  0.240192       NaN -0.960769   \n",
       "124.0    -0.240192 -0.720577 -0.277350 -0.720577       NaN -0.240192   \n",
       "131.0    -0.866025  0.866025  1.000000  0.866025       NaN -0.866025   \n",
       "...            ...       ...       ...       ...       ...       ...   \n",
       "138419.0 -0.500000  1.000000  0.866025  1.000000       NaN -0.500000   \n",
       "138422.0       NaN       NaN       NaN       NaN       NaN       NaN   \n",
       "138456.0  1.000000 -0.500000 -0.866025 -0.500000       NaN  1.000000   \n",
       "138474.0       NaN       NaN       NaN       NaN       NaN       NaN   \n",
       "138493.0 -0.500000 -0.500000  0.000000 -0.500000       NaN -0.500000   \n",
       "\n",
       "userId    138474.0  138493.0  \n",
       "userId                        \n",
       "11.0           NaN -0.866025  \n",
       "91.0           NaN  0.000000  \n",
       "116.0          NaN  0.720577  \n",
       "124.0          NaN  0.960769  \n",
       "131.0          NaN  0.000000  \n",
       "...            ...       ...  \n",
       "138419.0       NaN -0.500000  \n",
       "138422.0       NaN       NaN  \n",
       "138456.0       NaN -0.500000  \n",
       "138474.0       NaN       NaN  \n",
       "138493.0       NaN  1.000000  \n",
       "\n",
       "[11806 rows x 11806 columns]"
      ]
     },
     "execution_count": 31,
     "metadata": {},
     "output_type": "execute_result"
    }
   ],
   "source": [
    "#Finding the correlation\n",
    "final_df.T.corr()"
   ]
  },
  {
   "cell_type": "code",
   "execution_count": 32,
   "id": "481c6870",
   "metadata": {},
   "outputs": [],
   "source": [
    "#creating a correlation dataframe\n",
    "corr_df = final_df.T.corr().unstack().sort_values().drop_duplicates()\n",
    "corr_df = pd.DataFrame(corr_df, columns=[\"corr\"])\n",
    "corr_df.index.names = ['user_id_1', 'user_id_2']\n",
    "corr_df = corr_df.reset_index()"
   ]
  },
  {
   "cell_type": "code",
   "execution_count": 33,
   "id": "c582a0ab",
   "metadata": {},
   "outputs": [
    {
     "data": {
      "text/html": [
       "<div>\n",
       "<style scoped>\n",
       "    .dataframe tbody tr th:only-of-type {\n",
       "        vertical-align: middle;\n",
       "    }\n",
       "\n",
       "    .dataframe tbody tr th {\n",
       "        vertical-align: top;\n",
       "    }\n",
       "\n",
       "    .dataframe thead th {\n",
       "        text-align: right;\n",
       "    }\n",
       "</style>\n",
       "<table border=\"1\" class=\"dataframe\">\n",
       "  <thead>\n",
       "    <tr style=\"text-align: right;\">\n",
       "      <th></th>\n",
       "      <th>user_id_1</th>\n",
       "      <th>user_id_2</th>\n",
       "      <th>corr</th>\n",
       "    </tr>\n",
       "  </thead>\n",
       "  <tbody>\n",
       "    <tr>\n",
       "      <th>0</th>\n",
       "      <td>26240.0</td>\n",
       "      <td>41818.0</td>\n",
       "      <td>-1.0</td>\n",
       "    </tr>\n",
       "    <tr>\n",
       "      <th>1</th>\n",
       "      <td>33724.0</td>\n",
       "      <td>113898.0</td>\n",
       "      <td>-1.0</td>\n",
       "    </tr>\n",
       "    <tr>\n",
       "      <th>2</th>\n",
       "      <td>128147.0</td>\n",
       "      <td>65368.0</td>\n",
       "      <td>-1.0</td>\n",
       "    </tr>\n",
       "    <tr>\n",
       "      <th>3</th>\n",
       "      <td>14561.0</td>\n",
       "      <td>72949.0</td>\n",
       "      <td>-1.0</td>\n",
       "    </tr>\n",
       "    <tr>\n",
       "      <th>4</th>\n",
       "      <td>21746.0</td>\n",
       "      <td>22071.0</td>\n",
       "      <td>-1.0</td>\n",
       "    </tr>\n",
       "    <tr>\n",
       "      <th>...</th>\n",
       "      <td>...</td>\n",
       "      <td>...</td>\n",
       "      <td>...</td>\n",
       "    </tr>\n",
       "    <tr>\n",
       "      <th>3983</th>\n",
       "      <td>131829.0</td>\n",
       "      <td>126429.0</td>\n",
       "      <td>1.0</td>\n",
       "    </tr>\n",
       "    <tr>\n",
       "      <th>3984</th>\n",
       "      <td>41372.0</td>\n",
       "      <td>80207.0</td>\n",
       "      <td>1.0</td>\n",
       "    </tr>\n",
       "    <tr>\n",
       "      <th>3985</th>\n",
       "      <td>107234.0</td>\n",
       "      <td>11677.0</td>\n",
       "      <td>1.0</td>\n",
       "    </tr>\n",
       "    <tr>\n",
       "      <th>3986</th>\n",
       "      <td>59424.0</td>\n",
       "      <td>80361.0</td>\n",
       "      <td>1.0</td>\n",
       "    </tr>\n",
       "    <tr>\n",
       "      <th>3987</th>\n",
       "      <td>11.0</td>\n",
       "      <td>156.0</td>\n",
       "      <td>NaN</td>\n",
       "    </tr>\n",
       "  </tbody>\n",
       "</table>\n",
       "<p>3988 rows × 3 columns</p>\n",
       "</div>"
      ],
      "text/plain": [
       "      user_id_1  user_id_2  corr\n",
       "0       26240.0    41818.0  -1.0\n",
       "1       33724.0   113898.0  -1.0\n",
       "2      128147.0    65368.0  -1.0\n",
       "3       14561.0    72949.0  -1.0\n",
       "4       21746.0    22071.0  -1.0\n",
       "...         ...        ...   ...\n",
       "3983   131829.0   126429.0   1.0\n",
       "3984    41372.0    80207.0   1.0\n",
       "3985   107234.0    11677.0   1.0\n",
       "3986    59424.0    80361.0   1.0\n",
       "3987       11.0      156.0   NaN\n",
       "\n",
       "[3988 rows x 3 columns]"
      ]
     },
     "execution_count": 33,
     "metadata": {},
     "output_type": "execute_result"
    }
   ],
   "source": [
    "corr_df"
   ]
  },
  {
   "cell_type": "code",
   "execution_count": 45,
   "id": "de1f82f9",
   "metadata": {},
   "outputs": [],
   "source": [
    "#find the users which are highly correlated \n",
    "top_users = corr_df[(corr_df[\"user_id_1\"] == random_user) & (corr_df[\"corr\"] >= 0.65)][[\"user_id_2\", \"corr\"]].reset_index(drop=True)"
   ]
  },
  {
   "cell_type": "code",
   "execution_count": 46,
   "id": "2fa822e5",
   "metadata": {},
   "outputs": [],
   "source": [
    "top_users = top_users.sort_values(by='corr', ascending=False)"
   ]
  },
  {
   "cell_type": "code",
   "execution_count": 47,
   "id": "af1748c6",
   "metadata": {},
   "outputs": [
    {
     "data": {
      "text/html": [
       "<div>\n",
       "<style scoped>\n",
       "    .dataframe tbody tr th:only-of-type {\n",
       "        vertical-align: middle;\n",
       "    }\n",
       "\n",
       "    .dataframe tbody tr th {\n",
       "        vertical-align: top;\n",
       "    }\n",
       "\n",
       "    .dataframe thead th {\n",
       "        text-align: right;\n",
       "    }\n",
       "</style>\n",
       "<table border=\"1\" class=\"dataframe\">\n",
       "  <thead>\n",
       "    <tr style=\"text-align: right;\">\n",
       "      <th></th>\n",
       "      <th>user_id_2</th>\n",
       "      <th>corr</th>\n",
       "    </tr>\n",
       "  </thead>\n",
       "  <tbody>\n",
       "  </tbody>\n",
       "</table>\n",
       "</div>"
      ],
      "text/plain": [
       "Empty DataFrame\n",
       "Columns: [user_id_2, corr]\n",
       "Index: []"
      ]
     },
     "execution_count": 47,
     "metadata": {},
     "output_type": "execute_result"
    }
   ],
   "source": [
    "top_users"
   ]
  },
  {
   "cell_type": "code",
   "execution_count": 38,
   "id": "d74ead70",
   "metadata": {},
   "outputs": [
    {
     "data": {
      "text/html": [
       "<div>\n",
       "<style scoped>\n",
       "    .dataframe tbody tr th:only-of-type {\n",
       "        vertical-align: middle;\n",
       "    }\n",
       "\n",
       "    .dataframe tbody tr th {\n",
       "        vertical-align: top;\n",
       "    }\n",
       "\n",
       "    .dataframe thead th {\n",
       "        text-align: right;\n",
       "    }\n",
       "</style>\n",
       "<table border=\"1\" class=\"dataframe\">\n",
       "  <thead>\n",
       "    <tr style=\"text-align: right;\">\n",
       "      <th></th>\n",
       "      <th>userId</th>\n",
       "      <th>corr</th>\n",
       "    </tr>\n",
       "  </thead>\n",
       "  <tbody>\n",
       "  </tbody>\n",
       "</table>\n",
       "</div>"
      ],
      "text/plain": [
       "Empty DataFrame\n",
       "Columns: [userId, corr]\n",
       "Index: []"
      ]
     },
     "execution_count": 38,
     "metadata": {},
     "output_type": "execute_result"
    }
   ],
   "source": [
    "top_users.rename(columns={\"user_id_2\": \"userId\"}, inplace=True)\n",
    "top_users"
   ]
  },
  {
   "cell_type": "code",
   "execution_count": null,
   "id": "e5227d28",
   "metadata": {},
   "outputs": [],
   "source": [
    "top_users_rating = top_users.merge(rating[[\"userId\", \"movieId\", \"rating\"]], how = \"inner\")\n",
    "top_users_rating"
   ]
  },
  {
   "cell_type": "code",
   "execution_count": null,
   "id": "6f17dc19",
   "metadata": {},
   "outputs": [],
   "source": [
    "top_users_rating = top_users_rating[top_users_rating[\"userId\"] != random_user]\n",
    "top_users_rating"
   ]
  },
  {
   "cell_type": "markdown",
   "id": "b8b50db1",
   "metadata": {},
   "source": [
    "### Calculating the Weighted Average Recommendation Score"
   ]
  },
  {
   "cell_type": "code",
   "execution_count": null,
   "id": "3bf0ac32",
   "metadata": {},
   "outputs": [],
   "source": [
    "top_users_rating['weighted_rating'] = top_users_rating['corr']*top_users_rating['rating']\n",
    "top_users_rating"
   ]
  },
  {
   "cell_type": "code",
   "execution_count": null,
   "id": "87736855",
   "metadata": {},
   "outputs": [],
   "source": [
    "#total recommended movies\n",
    "recommendation_df = top_users_rating.groupby('movieId').agg({\"weighted_rating\": \"mean\"})\n",
    "recommendation_df = recommendation_df.reset_index()"
   ]
  },
  {
   "cell_type": "code",
   "execution_count": null,
   "id": "a5f5c9f0",
   "metadata": {},
   "outputs": [],
   "source": [
    "recommendation_df"
   ]
  },
  {
   "cell_type": "code",
   "execution_count": null,
   "id": "9574940f",
   "metadata": {},
   "outputs": [],
   "source": [
    "recommendation_df[[\"movieId\"]].nunique()"
   ]
  },
  {
   "cell_type": "markdown",
   "id": "4cb29644",
   "metadata": {},
   "source": [
    "Choosing the movies with highest weighted average to suggest "
   ]
  },
  {
   "cell_type": "code",
   "execution_count": null,
   "id": "c0e53788",
   "metadata": {},
   "outputs": [],
   "source": [
    "recommendation_df[recommendation_df[\"weighted_rating\"] > 4]"
   ]
  },
  {
   "cell_type": "code",
   "execution_count": null,
   "id": "d22378e8",
   "metadata": {},
   "outputs": [],
   "source": [
    "movies_to_recommend = recommendation_df[recommendation_df[\"weighted_rating\"] > 4].sort_values(\"weighted_rating\", ascending = False)"
   ]
  },
  {
   "cell_type": "code",
   "execution_count": null,
   "id": "617c8a26",
   "metadata": {},
   "outputs": [],
   "source": [
    "movies_to_recommend"
   ]
  },
  {
   "cell_type": "code",
   "execution_count": null,
   "id": "d38ebfbe",
   "metadata": {},
   "outputs": [],
   "source": [
    "recommendation = movies_to_recommend.merge(movie[[\"movieId\", \"title\"]])"
   ]
  },
  {
   "cell_type": "code",
   "execution_count": null,
   "id": "cd1c40fa",
   "metadata": {},
   "outputs": [],
   "source": [
    "recommendation"
   ]
  },
  {
   "cell_type": "code",
   "execution_count": null,
   "id": "0ef19084",
   "metadata": {},
   "outputs": [],
   "source": []
  }
 ],
 "metadata": {
  "kernelspec": {
   "display_name": "Python 3",
   "language": "python",
   "name": "python3"
  },
  "language_info": {
   "codemirror_mode": {
    "name": "ipython",
    "version": 3
   },
   "file_extension": ".py",
   "mimetype": "text/x-python",
   "name": "python",
   "nbconvert_exporter": "python",
   "pygments_lexer": "ipython3",
   "version": "3.8.8"
  }
 },
 "nbformat": 4,
 "nbformat_minor": 5
}
